{
 "cells": [
  {
   "cell_type": "markdown",
   "metadata": {},
   "source": [
    "# FastAPI Testing:\n",
    "This notebook is used to test the FastApi that has been made"
   ]
  },
  {
   "cell_type": "markdown",
   "metadata": {},
   "source": [
    "# Import Library"
   ]
  },
  {
   "cell_type": "code",
   "execution_count": 10,
   "metadata": {},
   "outputs": [],
   "source": [
    "import requests #-> used for request fastAPI\n",
    "import pandas as pd #-> used for read response data"
   ]
  },
  {
   "cell_type": "markdown",
   "metadata": {},
   "source": [
    "## Request FastAPI scrape_url_car:\n",
    "This code is used to retrieve the URL from the Carsome website"
   ]
  },
  {
   "cell_type": "code",
   "execution_count": 11,
   "metadata": {},
   "outputs": [],
   "source": [
    "REQUEST_URL = 'http://127.0.0.1:8001/rendi/scrape_url_car'\n",
    "PARAMS = {'page' : 1}\n",
    "HEADERS = {'X-Api-Token' : 'dev'}"
   ]
  },
  {
   "cell_type": "code",
   "execution_count": 12,
   "metadata": {},
   "outputs": [],
   "source": [
    "request_api = requests.get(REQUEST_URL, headers= HEADERS, params= PARAMS, verify = False).json() #request FastAPI top url car \n",
    "url = request_api['data']"
   ]
  },
  {
   "cell_type": "code",
   "execution_count": 13,
   "metadata": {},
   "outputs": [
    {
     "name": "stdout",
     "output_type": "stream",
     "text": [
      "https://www.carsome.id/beli-mobil-bekas/honda/brio/2016-honda-brio-rs-1.2/c4k0000\n",
      "https://www.carsome.id/beli-mobil-bekas/toyota/rush/2018-toyota-rush-s-trd-sportivo-1.5/ckx0000\n",
      "https://www.carsome.id/beli-mobil-bekas/honda/hr-v/2016-honda-hr-v-e-1.5/cvz0000\n",
      "https://www.carsome.id/beli-mobil-bekas/toyota/rush/2020-toyota-rush-s-trd-sportivo-1.5/cpn0000\n",
      "https://www.carsome.id/beli-mobil-bekas/toyota/yaris/2018-toyota-yaris-s-trd-1.5/cwk0000\n",
      "https://www.carsome.id/beli-mobil-bekas/toyota/avanza/2017-toyota-avanza-veloz-1.5/cek0000\n",
      "https://www.carsome.id/beli-mobil-bekas/toyota/yaris/2019-toyota-yaris-s-trd-1.5/cmg0000\n",
      "https://www.carsome.id/beli-mobil-bekas/suzuki/ertiga/2017-suzuki-ertiga-dreza-1.4/c0k0000\n",
      "https://www.carsome.id/beli-mobil-bekas/daihatsu/terios/2019-daihatsu-terios-r-1.5/csm0000\n",
      "https://www.carsome.id/beli-mobil-bekas/toyota/agya/2017-toyota-agya-g-1.0/cko0000\n",
      "https://www.carsome.id/beli-mobil-bekas/mitsubishi/pajero-sport/2018-mitsubishi-pajero-sport-dakar-ultimate-4x2-2.4/c1w0000\n",
      "https://www.carsome.id/beli-mobil-bekas/mitsubishi/eclipse-cross/2019-mitsubishi-eclipse-cross--1.5/c0y0000\n",
      "https://www.carsome.id/beli-mobil-bekas/honda/br-v/2017-honda-br-v-prestige-1.5/c5t0000\n",
      "https://www.carsome.id/beli-mobil-bekas/toyota/fortuner/2018-toyota-fortuner-vrz-trd-2.4/c8y0000\n",
      "https://www.carsome.id/beli-mobil-bekas/toyota/kijang-innova/2018-toyota-kijang-innova-g-2.4/c8v0000\n",
      "https://www.carsome.id/beli-mobil-bekas/nissan/livina/2019-nissan-livina-el-1.5/ct80000\n",
      "https://www.carsome.id/beli-mobil-bekas/suzuki/ertiga/2020-suzuki-ertiga-gl-1.5/cee0000\n",
      "https://www.carsome.id/beli-mobil-bekas/suzuki/xl7/2020-suzuki-xl7-alpha-1.5/cym0000\n"
     ]
    }
   ],
   "source": [
    "print(*url, sep = '\\n')"
   ]
  },
  {
   "cell_type": "markdown",
   "metadata": {},
   "source": [
    "## Request FastAPI scrape_car_detail and save_detail:\n",
    "This code is useful for scraping URLs and saving data to the database"
   ]
  },
  {
   "cell_type": "code",
   "execution_count": 14,
   "metadata": {},
   "outputs": [],
   "source": [
    "REQUEST_URL_SCRAPE = 'http://127.0.0.1:8001/rendi/scrape_car_detail/'\n",
    "REQUEST_SAVE_DATA = 'http://127.0.0.1:8001/rendi/save_data_detail/'\n",
    "\n",
    "PARAMS_URL_SCRAPE = {'url': ''}"
   ]
  },
  {
   "cell_type": "markdown",
   "metadata": {},
   "source": [
    "Scrape and save the data:"
   ]
  },
  {
   "cell_type": "code",
   "execution_count": 15,
   "metadata": {},
   "outputs": [
    {
     "name": "stdout",
     "output_type": "stream",
     "text": [
      "==================================================\n",
      "Model: BRIO RS 1.2\n",
      "==================================================\n",
      "Lokasi: Kelapa Gading, Jakarta Utara\n",
      "Harga: 135850000\n",
      "\n",
      "LOG: \n",
      "SCRAPE DETAIL CAR -->  SUCCESS\n",
      "SAVE DATA FROM https://www.carsome.id/beli-mobil-bekas/honda/brio/2016-honda-brio-rs-1.2/c4k0000 --> SUCCESS\n",
      "\n",
      "==================================================\n",
      "Model: RUSH S TRD SPORTIVO 1.5\n",
      "==================================================\n",
      "Lokasi: Kelapa Gading, Jakarta Utara\n",
      "Harga: 216310000\n",
      "\n",
      "LOG: \n",
      "SCRAPE DETAIL CAR -->  SUCCESS\n",
      "SAVE DATA FROM https://www.carsome.id/beli-mobil-bekas/toyota/rush/2018-toyota-rush-s-trd-sportivo-1.5/ckx0000 --> SUCCESS\n",
      "\n",
      "==================================================\n",
      "Model: HR-V E 1.5\n",
      "==================================================\n",
      "Lokasi: Alam Sutera, Tangerang Selatan\n",
      "Harga: 214370000\n",
      "\n",
      "LOG: \n",
      "SCRAPE DETAIL CAR -->  SUCCESS\n",
      "SAVE DATA FROM https://www.carsome.id/beli-mobil-bekas/honda/hr-v/2016-honda-hr-v-e-1.5/cvz0000 --> SUCCESS\n",
      "\n",
      "==================================================\n",
      "Model: RUSH S TRD SPORTIVO 1.5\n",
      "==================================================\n",
      "Lokasi: Alam Sutera, Tangerang Selatan\n",
      "Harga: 229900000\n",
      "\n",
      "LOG: \n",
      "SCRAPE DETAIL CAR -->  SUCCESS\n",
      "SAVE DATA FROM https://www.carsome.id/beli-mobil-bekas/toyota/rush/2020-toyota-rush-s-trd-sportivo-1.5/cpn0000 --> SUCCESS\n",
      "\n",
      "==================================================\n",
      "Model: YARIS S TRD 1.5\n",
      "==================================================\n",
      "Lokasi: Puri Indah, Jakarta Barat\n",
      "Harga: 207100000\n",
      "\n",
      "LOG: \n",
      "SCRAPE DETAIL CAR -->  SUCCESS\n",
      "SAVE DATA FROM https://www.carsome.id/beli-mobil-bekas/toyota/yaris/2018-toyota-yaris-s-trd-1.5/cwk0000 --> SUCCESS\n",
      "\n",
      "==================================================\n",
      "Model: AVANZA VELOZ 1.5\n",
      "==================================================\n",
      "Lokasi: Kelapa Gading, Jakarta Utara\n",
      "Harga: 151050000\n",
      "\n",
      "LOG: \n",
      "SCRAPE DETAIL CAR -->  SUCCESS\n",
      "SAVE DATA FROM https://www.carsome.id/beli-mobil-bekas/toyota/avanza/2017-toyota-avanza-veloz-1.5/cek0000 --> SUCCESS\n",
      "\n",
      "==================================================\n",
      "Model: YARIS S TRD 1.5\n",
      "==================================================\n",
      "Lokasi: Alam Sutera, Tangerang Selatan\n",
      "Harga: 222000000\n",
      "\n",
      "LOG: \n",
      "SCRAPE DETAIL CAR -->  SUCCESS\n",
      "SAVE DATA FROM https://www.carsome.id/beli-mobil-bekas/toyota/yaris/2019-toyota-yaris-s-trd-1.5/cmg0000 --> SUCCESS\n",
      "\n",
      "==================================================\n",
      "Model: ERTIGA DREZA 1.4\n",
      "==================================================\n",
      "Lokasi: Alam Sutera, Tangerang Selatan\n",
      "Harga: 148200000\n",
      "\n",
      "LOG: \n",
      "SCRAPE DETAIL CAR -->  SUCCESS\n",
      "SAVE DATA FROM https://www.carsome.id/beli-mobil-bekas/suzuki/ertiga/2017-suzuki-ertiga-dreza-1.4/c0k0000 --> SUCCESS\n",
      "\n",
      "==================================================\n",
      "Model: TERIOS R 1.5\n",
      "==================================================\n",
      "Lokasi: Pondok Indah, Jakarta Selatan\n",
      "Harga: 199500000\n",
      "\n",
      "LOG: \n",
      "SCRAPE DETAIL CAR -->  SUCCESS\n",
      "SAVE DATA FROM https://www.carsome.id/beli-mobil-bekas/daihatsu/terios/2019-daihatsu-terios-r-1.5/csm0000 --> SUCCESS\n",
      "\n",
      "==================================================\n",
      "Model: AGYA G 1.0\n",
      "==================================================\n",
      "Lokasi: Pondok Indah, Jakarta Selatan\n",
      "Harga: 92150000\n",
      "\n",
      "LOG: \n",
      "SCRAPE DETAIL CAR -->  SUCCESS\n",
      "SAVE DATA FROM https://www.carsome.id/beli-mobil-bekas/toyota/agya/2017-toyota-agya-g-1.0/cko0000 --> SUCCESS\n",
      "\n",
      "==================================================\n",
      "Model: PAJERO SPORT DAKAR ULTIMATE 4X2 2.4\n",
      "==================================================\n",
      "Lokasi: Pondok Indah, Jakarta Selatan\n",
      "Harga: 458880000\n",
      "\n",
      "LOG: \n",
      "SCRAPE DETAIL CAR -->  SUCCESS\n",
      "SAVE DATA FROM https://www.carsome.id/beli-mobil-bekas/mitsubishi/pajero-sport/2018-mitsubishi-pajero-sport-dakar-ultimate-4x2-2.4/c1w0000 --> SUCCESS\n",
      "\n",
      "==================================================\n",
      "Model: ECLIPSE CROSS 1.5\n",
      "==================================================\n",
      "Lokasi: Alam Sutera, Tangerang Selatan\n",
      "Harga: 385050000\n",
      "\n",
      "LOG: \n",
      "SCRAPE DETAIL CAR -->  SUCCESS\n",
      "SAVE DATA FROM https://www.carsome.id/beli-mobil-bekas/mitsubishi/eclipse-cross/2019-mitsubishi-eclipse-cross--1.5/c0y0000 --> SUCCESS\n",
      "\n",
      "==================================================\n",
      "Model: BR-V PRESTIGE 1.5\n",
      "==================================================\n",
      "Lokasi: Alam Sutera, Tangerang Selatan\n",
      "Harga: 182360000\n",
      "\n",
      "LOG: \n",
      "SCRAPE DETAIL CAR -->  SUCCESS\n",
      "SAVE DATA FROM https://www.carsome.id/beli-mobil-bekas/honda/br-v/2017-honda-br-v-prestige-1.5/c5t0000 --> SUCCESS\n",
      "\n",
      "==================================================\n",
      "Model: FORTUNER VRZ TRD 2.4\n",
      "==================================================\n",
      "Lokasi: Puri Indah, Jakarta Barat\n",
      "Harga: 451050000\n",
      "\n",
      "LOG: \n",
      "SCRAPE DETAIL CAR -->  SUCCESS\n",
      "SAVE DATA FROM https://www.carsome.id/beli-mobil-bekas/toyota/fortuner/2018-toyota-fortuner-vrz-trd-2.4/c8y0000 --> SUCCESS\n",
      "\n",
      "==================================================\n",
      "Model: KIJANG INNOVA G 2.4\n",
      "==================================================\n",
      "Lokasi: Alam Sutera, Tangerang Selatan\n",
      "Harga: 305000000\n",
      "\n",
      "LOG: \n",
      "SCRAPE DETAIL CAR -->  SUCCESS\n",
      "SAVE DATA FROM https://www.carsome.id/beli-mobil-bekas/toyota/kijang-innova/2018-toyota-kijang-innova-g-2.4/c8v0000 --> SUCCESS\n",
      "\n",
      "==================================================\n",
      "Model: LIVINA EL 1.5\n",
      "==================================================\n",
      "Lokasi: Alam Sutera, Tangerang Selatan\n",
      "Harga: 172000000\n",
      "\n",
      "LOG: \n",
      "SCRAPE DETAIL CAR -->  SUCCESS\n",
      "SAVE DATA FROM https://www.carsome.id/beli-mobil-bekas/nissan/livina/2019-nissan-livina-el-1.5/ct80000 --> SUCCESS\n",
      "\n",
      "==================================================\n",
      "Model: ERTIGA GL 1.5\n",
      "==================================================\n",
      "Lokasi: Bekasi, Bekasi\n",
      "Harga: 169000000\n",
      "\n",
      "LOG: \n",
      "SCRAPE DETAIL CAR -->  SUCCESS\n",
      "SAVE DATA FROM https://www.carsome.id/beli-mobil-bekas/suzuki/ertiga/2020-suzuki-ertiga-gl-1.5/cee0000 --> SUCCESS\n",
      "\n",
      "==================================================\n",
      "Model: XL7 ALPHA 1.5\n",
      "==================================================\n",
      "Lokasi: Pondok Indah, Jakarta Selatan\n",
      "Harga: 215650000\n",
      "\n",
      "LOG: \n",
      "SCRAPE DETAIL CAR -->  SUCCESS\n",
      "SAVE DATA FROM https://www.carsome.id/beli-mobil-bekas/suzuki/xl7/2020-suzuki-xl7-alpha-1.5/cym0000 --> SUCCESS\n",
      "\n"
     ]
    }
   ],
   "source": [
    "for req_url in url:\n",
    "    result_scrape = 'FAIL'\n",
    "    result_save = 'FAIL'\n",
    "    PARAMS_URL_SCRAPE['url'] = req_url\n",
    "    scrape = requests.get(REQUEST_URL_SCRAPE, headers= HEADERS, params = PARAMS_URL_SCRAPE, verify = False).json() #request FastAPI to scrape car detail\n",
    "    data = scrape['data']\n",
    "    save = requests.post(REQUEST_SAVE_DATA, headers= HEADERS, json = data, verify = False).json() #request FastAPI to append data in database\n",
    "    if scrape['status'] == 200:\n",
    "        result_scrape = \"SUCCESS\"\n",
    "        print(\"=\"*50)\n",
    "        print(f\"Model: {data['model']}\")\n",
    "        print(\"=\"*50)\n",
    "        print(f\"Lokasi: {data['lokasi']}\\nHarga: {data['harga']}\\n\")\n",
    "\n",
    "    if save['status'] == 200:\n",
    "        result_save = 'SUCCESS'\n",
    "\n",
    "    print(\"LOG: \")\n",
    "    print(f\"{scrape['message']} -->  {result_scrape}\\n{save['message']} --> {result_save}\\n\")\n"
   ]
  },
  {
   "cell_type": "markdown",
   "metadata": {},
   "source": [
    "## Request FastAPI read_data:\n",
    "This code will request read_data API and we will get all data from database\n",
    "<p> We can filter the data too based on brand and tahun columns"
   ]
  },
  {
   "cell_type": "code",
   "execution_count": 16,
   "metadata": {},
   "outputs": [],
   "source": [
    "REQUEST_READ_DATA = 'http://127.0.0.1:8001/rendi/read_data/'\n",
    "PARAMS_READ_DATA = {'brand': None,\n",
    "                    'tahun': None}"
   ]
  },
  {
   "cell_type": "code",
   "execution_count": 17,
   "metadata": {},
   "outputs": [
    {
     "name": "stdout",
     "output_type": "stream",
     "text": [
      "LOG:\n",
      "GET ALL DATA --> 200\n"
     ]
    }
   ],
   "source": [
    "read = requests.get(REQUEST_READ_DATA, headers= HEADERS, params = PARAMS_URL_SCRAPE, verify = False).json() \n",
    "print(f\"LOG:\\n{read['message']} --> {read['status']}\")"
   ]
  },
  {
   "cell_type": "code",
   "execution_count": 18,
   "metadata": {},
   "outputs": [
    {
     "name": "stdout",
     "output_type": "stream",
     "text": [
      "        id   brand                    model tahun  \\\n",
      "0  C4K0000   Honda              BRIO RS 1.2  2016   \n",
      "1  CKX0000  Toyota  RUSH S TRD SPORTIVO 1.5  2018   \n",
      "2  CVZ0000   Honda               HR-V E 1.5  2016   \n",
      "3  CPN0000  Toyota  RUSH S TRD SPORTIVO 1.5  2020   \n",
      "4  CWK0000  Toyota          YARIS S TRD 1.5  2018   \n",
      "\n",
      "                           lokasi        harga  \\\n",
      "0    Kelapa Gading, Jakarta Utara  135850000.0   \n",
      "1    Kelapa Gading, Jakarta Utara  216310000.0   \n",
      "2  Alam Sutera, Tangerang Selatan  214370000.0   \n",
      "3  Alam Sutera, Tangerang Selatan  229900000.0   \n",
      "4       Puri Indah, Jakarta Barat  207100000.0   \n",
      "\n",
      "                                              gambar  \\\n",
      "0  https://prod-carsome-id.imgix.net/B2C/439cdfc7...   \n",
      "1  https://prod-carsome-id.imgix.net/B2C/5432681c...   \n",
      "2  https://prod-carsome-id.imgix.net/B2C/27fa8d84...   \n",
      "3  https://prod-carsome-id.imgix.net/B2C/03688784...   \n",
      "4  https://prod-carsome-id.imgix.net/B2C/94f941da...   \n",
      "\n",
      "                                                 url jenis_bahan_bakar  \\\n",
      "0  https://www.carsome.id/beli-mobil-bekas/honda/...        Bensin       \n",
      "1  https://www.carsome.id/beli-mobil-bekas/toyota...        Bensin       \n",
      "2  https://www.carsome.id/beli-mobil-bekas/honda/...        Bensin       \n",
      "3  https://www.carsome.id/beli-mobil-bekas/toyota...        Bensin       \n",
      "4  https://www.carsome.id/beli-mobil-bekas/toyota...        Bensin       \n",
      "\n",
      "     warna jumlah_tempat_duduk tanggal_registrasi tipe_registrasi  \\\n",
      "0  Lainnya                   5         2016-01-11      Perorangan   \n",
      "1   Silver                   7         2018-01-08      Perorangan   \n",
      "2    Merah                   5         2016-01-12      Perorangan   \n",
      "3    Hitam                   7         2020-01-03      Perorangan   \n",
      "4    Putih                   5         2018-01-04      Perorangan   \n",
      "\n",
      "   jarak_tempuh_saat_ini kunci_cadangan buku_servis  \\\n",
      "0                  53495             Ya          Ya   \n",
      "1                  56917             Ya          Ya   \n",
      "2                  77104             Ya          Ya   \n",
      "3                  23165             Ya          Ya   \n",
      "4                  52317             Ya       Tidak   \n",
      "\n",
      "  kadaluwarsa_garansi_pabrik garansi_pabrik masa_berlaku_stnk  \n",
      "0                       None          Tidak        2022-01-09  \n",
      "1                       None          Tidak        2022-01-09  \n",
      "2                       None          Tidak        2022-01-01  \n",
      "3                 01-04-2023           None        2022-01-03  \n",
      "4                       None          Tidak        2022-01-04  \n"
     ]
    }
   ],
   "source": [
    "print(pd.DataFrame(read['data']['result']).head(5))"
   ]
  },
  {
   "cell_type": "markdown",
   "metadata": {},
   "source": [
    "## Update data with update_data FastAPI:\n",
    "To update the data, API need ID car"
   ]
  },
  {
   "cell_type": "code",
   "execution_count": 19,
   "metadata": {},
   "outputs": [],
   "source": [
    "REQUEST_UPDATE_DATA = 'http://127.0.0.1:8001/rendi/update_data/'\n",
    "PARAMS_UPDATE_DATA = {'idcar': \"C4K0000\"}\n",
    "UPDATE_DATA = {\n",
    "  \"brand\": \"Honda\",\n",
    "  \"model\": \"BRIO RS 1.2\",\n",
    "  \"tahun\": \"2018\",\n",
    "  \"lokasi\": \"Kelapa Gading, Jakarta Utara\",\n",
    "  \"harga\": \"135850000\",\n",
    "  \"gambar\": \"https://prod-carsome-id.imgix.net/B2C/439cdfc7-606e-4a2a-83f7-31c3657f38b0.jpg?q=20&w=2400&auto=format\",\n",
    "  \"url\": \"https://www.carsome.id/beli-mobil-bekas/honda/brio/2016-honda-brio-rs-1.2/c4k0000\",\n",
    "  \"jenis_bahan_bakar\": \"Bensin\",\n",
    "  \"warna\": \"Lainnya\",\n",
    "  \"jumlah_tempat_duduk\": \"5\",\n",
    "  \"tanggal_registrasi\": \"01-11-2016\",\n",
    "  \"tipe_registrasi\": \"Perorangan\",\n",
    "  \"jarak_tempuh_saat_ini\": \"53495\",\n",
    "  \"kunci_cadangan\": \"Ya\",\n",
    "  \"buku_servis\": \"Ya\",\n",
    "  \"garansi_pabrik\": \"Tidak\",\n",
    "  \"masa_berlaku_stnk\": \"01-09-2022\"\n",
    "}"
   ]
  },
  {
   "cell_type": "code",
   "execution_count": 20,
   "metadata": {},
   "outputs": [
    {
     "name": "stdout",
     "output_type": "stream",
     "text": [
      "LOG:\n",
      "UPDATE DATA BY ID: C4K0000 --> 200\n"
     ]
    }
   ],
   "source": [
    "update = requests.put(REQUEST_UPDATE_DATA, headers= HEADERS, params = PARAMS_UPDATE_DATA, json = UPDATE_DATA, verify = False).json() \n",
    "print(f\"LOG:\\n{update['message']} --> {update['status']}\")"
   ]
  },
  {
   "cell_type": "markdown",
   "metadata": {},
   "source": [
    "## Delete data with delete_data FastAPI:\n",
    "To delete the data, API need ID car"
   ]
  },
  {
   "cell_type": "code",
   "execution_count": 21,
   "metadata": {},
   "outputs": [],
   "source": [
    "REQUEST_DELETE_DATA = 'http://127.0.0.1:8001/rendi/delete_data/'\n",
    "PARAMS_DELETE_DATA = {'idcar': \"C4K0000\"}"
   ]
  },
  {
   "cell_type": "code",
   "execution_count": 22,
   "metadata": {},
   "outputs": [
    {
     "name": "stdout",
     "output_type": "stream",
     "text": [
      "LOG:\n",
      "DELETE CAR DATA BY ID: C4K0000 --> 200\n"
     ]
    }
   ],
   "source": [
    "delete = requests.delete(REQUEST_DELETE_DATA, headers= HEADERS, params = PARAMS_DELETE_DATA, verify = False).json() \n",
    "print(f\"LOG:\\n{delete['message']} --> {delete['status']}\")"
   ]
  },
  {
   "cell_type": "markdown",
   "metadata": {},
   "source": [
    "## Scrape All Page in Carsome Website:\n",
    "In this part, we will use:\n",
    "- scrape_url_car API: To get all the url cars that are on a page\n",
    "- scrape_car_detail API: To get details of the cars for sale\n",
    "- save_detail: To save data that has been scraped"
   ]
  },
  {
   "cell_type": "markdown",
   "metadata": {},
   "source": [
    "API URL and Params:"
   ]
  },
  {
   "cell_type": "code",
   "execution_count": 14,
   "metadata": {},
   "outputs": [],
   "source": [
    "HEADERS = {'X-Api-Token' : 'dev'}\n",
    "\n",
    "REQUEST_URL = 'http://127.0.0.1:8001/rendi/scrape_url_car'\n",
    "PARAMS_URL = {'page' : 1}\n",
    "\n",
    "REQUEST_URL_SCRAPE = 'http://127.0.0.1:8001/rendi/scrape_car_detail/'\n",
    "PARAMS_URL_SCRAPE = {'url': ''}\n",
    "\n",
    "REQUEST_SAVE_DATA = 'http://127.0.0.1:8001/rendi/save_data_detail/'"
   ]
  },
  {
   "cell_type": "code",
   "execution_count": 17,
   "metadata": {},
   "outputs": [],
   "source": [
    "for page in range(1, 32):\n",
    "    PARAMS_URL['page'] = str(page)\n",
    "    request_url_car = requests.get(REQUEST_URL, headers= HEADERS, params= PARAMS_URL, verify = False).json()['data'] #Get URL Car\n",
    "\n",
    "    for url in request_url_car:\n",
    "        result_scrape = 'FAIL'\n",
    "        result_save = 'FAIL'\n",
    "        PARAMS_URL_SCRAPE['url'] = url\n",
    "        scrape = requests.get(REQUEST_URL_SCRAPE, headers= HEADERS, params = PARAMS_URL_SCRAPE, verify = False).json()\n",
    "        data = scrape['data']\n",
    "        save = requests.post(REQUEST_SAVE_DATA, headers= HEADERS, json = data, verify = False).json()\n",
    "        if scrape['status'] == 200:\n",
    "            result_scrape = \"SUCCESS\"\n",
    "            with open('LOG.txt', 'a+') as f:\n",
    "                f.write(\"=\"*50 + '\\n')\n",
    "                f.write(f\"Model: {data['model']}\\n\")\n",
    "                f.write(\"=\"*50 + '\\n')\n",
    "                f.write(f\"Lokasi: {data['lokasi']}\\nHarga: {data['harga']}\\n\")\n",
    "\n",
    "        if save['status'] == 200:\n",
    "            result_save = 'SUCCESS'\n",
    "\n",
    "        with open('LOG.txt', 'a+') as f:\n",
    "            f.write(\"LOG:\\n\")\n",
    "            f.write(f\"{scrape['message']} -->  {result_scrape}\\n{save['message']} --> {result_save}\\n\\n\")\n",
    "\n",
    "    with open('LOG.txt', 'a+') as f:\n",
    "        f.write('-'*50 + '\\n')\n",
    "        f.write(f'Done for page: {page}\\n')\n",
    "        f.write('-'*50 + '\\n')"
   ]
  },
  {
   "cell_type": "code",
   "execution_count": null,
   "metadata": {},
   "outputs": [],
   "source": []
  }
 ],
 "metadata": {
  "interpreter": {
   "hash": "90822b22a0b44f56afbd49a81f2a419a86f80ac4a745ae6f9237f4762b3c7acd"
  },
  "kernelspec": {
   "display_name": "Python 3.10.1 64-bit",
   "language": "python",
   "name": "python3"
  },
  "language_info": {
   "codemirror_mode": {
    "name": "ipython",
    "version": 3
   },
   "file_extension": ".py",
   "mimetype": "text/x-python",
   "name": "python",
   "nbconvert_exporter": "python",
   "pygments_lexer": "ipython3",
   "version": "3.10.1"
  },
  "orig_nbformat": 4
 },
 "nbformat": 4,
 "nbformat_minor": 2
}
